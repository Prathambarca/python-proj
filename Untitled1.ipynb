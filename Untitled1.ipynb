{
 "cells": [
  {
   "cell_type": "markdown",
   "metadata": {},
   "source": [
    "Company Manager project"
   ]
  },
  {
   "cell_type": "code",
   "execution_count": 6,
   "metadata": {},
   "outputs": [],
   "source": [
    "class Employee:\n",
    "    'ID, number, department, job title'\n",
    "\n",
    "    def __init__(self,ID,number,department,job_title):\n",
    "        self.ID = ID\n",
    "        self.number = number\n",
    "        self.department = department\n",
    "        self.job_title = job_title\n",
    "\n",
    "    # Mutators\n",
    "\n",
    "    def set_ID(self,ID):\n",
    "        self.ID = ID\n",
    "\n",
    "    def set_number(self,number):\n",
    "        self.number = number\n",
    "\n",
    "    def set_department(self,department):\n",
    "        self.department = department\n",
    "\n",
    "    def job_title(self,job_title):\n",
    "        self.job_title = job_title\n",
    "\n",
    "    #Accessor Methods\n",
    "\n",
    "    def get_ID(self):\n",
    "        return self.ID\n",
    "\n",
    "    def get_number(self):\n",
    "        return self.number\n",
    "\n",
    "    def get_department(self):\n",
    "        return self.department\n",
    "\n",
    "    def get_job_title(self):\n",
    "        return self.job_title\n",
    "\n",
    "    def get_data(self):\n",
    "        print (self.ID, self.number,self.department,self.job_title)"
   ]
  },
  {
   "cell_type": "code",
   "execution_count": 7,
   "metadata": {},
   "outputs": [
    {
     "ename": "SyntaxError",
     "evalue": "invalid syntax (<ipython-input-7-2f3d832553ed>, line 21)",
     "output_type": "error",
     "traceback": [
      "\u001b[1;36m  File \u001b[1;32m\"<ipython-input-7-2f3d832553ed>\"\u001b[1;36m, line \u001b[1;32m21\u001b[0m\n\u001b[1;33m    entry = module from Employee.class name(id,number,department,job_title)\u001b[0m\n\u001b[1;37m                      ^\u001b[0m\n\u001b[1;31mSyntaxError\u001b[0m\u001b[1;31m:\u001b[0m invalid syntax\n"
     ]
    }
   ],
   "source": [
    "import Employee\n",
    "import pickle\n",
    "\n",
    "filename = 'contacts.dat'\n",
    "input_file = open(filename,'rb')\n",
    "unpickle_input_file = pickle.load(input_file)\n",
    "def test_system():\n",
    "\n",
    "    user = input('Press 1 to look up employee,\\nPress 2 to add employee'\n",
    "                 '\\n3Press 3 to change an existing employee name, department and job title'\n",
    "                 '\\n4 Delete an employee from the dictionary'\n",
    "                 '\\n5 Quit the program'\n",
    "                 '\\nMake your choice ')\n",
    "\n",
    "    if user == 2:\n",
    "        ID = raw_input('Enter the name ')\n",
    "        number = input('Enter the number')\n",
    "        deparment = raw_input('Enter the department ')\n",
    "        job_title = raw_input('Enter the job title ')\n",
    "\n",
    "        entry = module from Employee.class name(id,number,department,job_title)\n",
    "        empty_dictionary = {}\n",
    "        empty_dictionary[number] = entry\n",
    "\n",
    "\n",
    "input_file.close()"
   ]
  }
 ],
 "metadata": {
  "kernelspec": {
   "display_name": "Python 3",
   "language": "python",
   "name": "python3"
  },
  "language_info": {
   "codemirror_mode": {
    "name": "ipython",
    "version": 3
   },
   "file_extension": ".py",
   "mimetype": "text/x-python",
   "name": "python",
   "nbconvert_exporter": "python",
   "pygments_lexer": "ipython3",
   "version": "3.6.5"
  }
 },
 "nbformat": 4,
 "nbformat_minor": 2
}
